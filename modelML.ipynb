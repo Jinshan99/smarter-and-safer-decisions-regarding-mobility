{
 "cells": [
  {
   "cell_type": "code",
   "execution_count": 45,
   "id": "4a43df82",
   "metadata": {},
   "outputs": [],
   "source": [
    "import csv\n",
    "import sklearn\n",
    "import numpy as np\n",
    "import pandas as pd\n",
    "from sklearn.model_selection import GridSearchCV\n",
    "import warnings\n",
    "from sklearn.exceptions import DataConversionWarning\n",
    "\n",
    "# ignore DataConversionWarning\n",
    "warnings.filterwarnings(\"ignore\", category=DataConversionWarning)\n"
   ]
  },
  {
   "cell_type": "code",
   "execution_count": 2,
   "id": "e629228a",
   "metadata": {},
   "outputs": [
    {
     "name": "stdout",
     "output_type": "stream",
     "text": [
      " Volume in drive C is Windows-SSD\n",
      " Volume Serial Number is 30FD-2592\n",
      "\n",
      " Directory of C:\\Users\\wn199\\Desktop\\DSCI553\\Dataset\n",
      "\n",
      "04/02/2023  01:57 PM    <DIR>          .\n",
      "04/01/2023  11:38 PM    <DIR>          ..\n",
      "04/02/2023  12:03 AM    <DIR>          .ipynb_checkpoints\n",
      "03/24/2023  11:52 PM             6,501 Dataset Instructions.docx\n",
      "04/02/2023  01:58 AM           161,469 Hospitals_and_Medical_Centers.csv\n",
      "03/24/2023  11:49 PM       109,121,985 LA_Crime_Data_2020_2023.csv\n",
      "03/24/2023  11:49 PM        16,292,654 LA_Crime_Data_Location_Time.csv\n",
      "03/25/2023  04:00 PM        10,512,463 LA_Crime_Data_Location_Time.xlsx\n",
      "04/02/2023  01:56 AM             1,395 LAPD_Police_Stations.csv\n",
      "04/02/2023  01:57 PM            23,510 modelML.ipynb\n",
      "               7 File(s)    136,119,977 bytes\n",
      "               3 Dir(s)  658,245,296,128 bytes free\n"
     ]
    }
   ],
   "source": [
    "ls"
   ]
  },
  {
   "cell_type": "code",
   "execution_count": 3,
   "id": "1ce20f9f",
   "metadata": {},
   "outputs": [],
   "source": [
    "LA_crime = pd.read_csv(\"LA_Crime_Data_2020_2023.csv\")\n",
    "LA_crime_data_location_time = pd.read_csv(\"LA_Crime_Data_Location_Time.csv\")"
   ]
  },
  {
   "cell_type": "code",
   "execution_count": 4,
   "id": "b6aa1bb2",
   "metadata": {},
   "outputs": [],
   "source": [
    "LAPD = pd.read_csv(\"LAPD_Police_Stations.csv\")\n",
    "LAhospital = pd.read_csv(\"Hospitals_and_Medical_Centers.csv\")"
   ]
  },
  {
   "cell_type": "code",
   "execution_count": 5,
   "id": "e30c8d23",
   "metadata": {},
   "outputs": [
    {
     "data": {
      "text/plain": [
       "VEHICLE - STOLEN                                            72439\n",
       "BATTERY - SIMPLE ASSAULT                                    47528\n",
       "THEFT OF IDENTITY                                           44073\n",
       "BURGLARY FROM VEHICLE                                       42408\n",
       "VANDALISM - FELONY ($400 & OVER, ALL CHURCH VANDALISMS)     41099\n",
       "BURGLARY                                                    40892\n",
       "THEFT PLAIN - PETTY ($950 & UNDER)                          34688\n",
       "ASSAULT WITH DEADLY WEAPON, AGGRAVATED ASSAULT              33624\n",
       "INTIMATE PARTNER - SIMPLE ASSAULT                           33443\n",
       "THEFT FROM MOTOR VEHICLE - PETTY ($950 & UNDER)             26692\n",
       "THEFT FROM MOTOR VEHICLE - GRAND ($950.01 AND OVER)         24691\n",
       "ROBBERY                                                     23339\n",
       "THEFT-GRAND ($950.01 & OVER)EXCPT,GUNS,FOWL,LIVESTK,PROD    21274\n",
       "VANDALISM - MISDEAMEANOR ($399 OR UNDER)                    18693\n",
       "CRIMINAL THREATS - NO WEAPON DISPLAYED                      12929\n",
       "SHOPLIFTING - PETTY THEFT ($950 & UNDER)                    12852\n",
       "BRANDISH WEAPON                                              9564\n",
       "INTIMATE PARTNER - AGGRAVATED ASSAULT                        9095\n",
       "TRESPASSING                                                  8573\n",
       "VIOLATION OF RESTRAINING ORDER                               8253\n",
       "Name: CrmDesc, dtype: int64"
      ]
     },
     "execution_count": 5,
     "metadata": {},
     "output_type": "execute_result"
    }
   ],
   "source": [
    "LA_crime.CrmDesc.value_counts()"
   ]
  },
  {
   "cell_type": "code",
   "execution_count": 6,
   "id": "1eb270a6",
   "metadata": {},
   "outputs": [],
   "source": [
    "def classify_crime(crime):\n",
    "    answer = []\n",
    "    property_crimes = ['BURGLARY', 'BURGLARY FROM VEHICLE', 'THEFT FROM MOTOR VEHICLE - GRAND ($950.01 AND OVER)', 'THEFT FROM MOTOR VEHICLE - PETTY ($950 & UNDER)', 'THEFT PLAIN - PETTY ($950 & UNDER)', 'THEFT-GRAND ($950.01 & OVER)EXCPT,GUNS,FOWL,LIVESTK,PROD', 'VANDALISM - FELONY ($400 & OVER, ALL CHURCH VANDALISMS)', 'VANDALISM - MISDEAMEANOR ($399 OR UNDER)', 'VEHICLE - STOLEN']\n",
    "    assaults_and_threats = ['ASSAULT WITH DEADLY WEAPON, AGGRAVATED ASSAULT', 'BATTERY - SIMPLE ASSAULT', 'CRIMINAL THREATS - NO WEAPON DISPLAYED'] \n",
    "    domestic_violence = ['INTIMATE PARTNER - AGGRAVATED ASSAULT', 'INTIMATE PARTNER - SIMPLE ASSAULT', 'VIOLATION OF RESTRAINING ORDER'] \n",
    "    robbery_and_related = ['BRANDISH WEAPON', 'ROBBERY']\n",
    "    \n",
    "    for i in crime:\n",
    "        if i in property_crimes:\n",
    "            answer.append('Property crimes')\n",
    "        elif i in assaults_and_threats:\n",
    "             answer.append('Assaults and threats')\n",
    "        elif i in domestic_violence:\n",
    "             answer.append('Domestic violence')\n",
    "        elif i in robbery_and_related:\n",
    "             answer.append('Robbery and related crimes')\n",
    "        else:\n",
    "            answer.append(\"others\")\n",
    "    return answer"
   ]
  },
  {
   "cell_type": "code",
   "execution_count": 7,
   "id": "d30bdaca",
   "metadata": {},
   "outputs": [],
   "source": [
    "prediction_y = classify_crime(list(LA_crime.CrmDesc))"
   ]
  },
  {
   "cell_type": "code",
   "execution_count": 8,
   "id": "22037233",
   "metadata": {},
   "outputs": [],
   "source": [
    "LA_crime['target'] = prediction_y"
   ]
  },
  {
   "cell_type": "code",
   "execution_count": 94,
   "id": "1b6fd5e4",
   "metadata": {},
   "outputs": [
    {
     "data": {
      "text/html": [
       "<div>\n",
       "<style scoped>\n",
       "    .dataframe tbody tr th:only-of-type {\n",
       "        vertical-align: middle;\n",
       "    }\n",
       "\n",
       "    .dataframe tbody tr th {\n",
       "        vertical-align: top;\n",
       "    }\n",
       "\n",
       "    .dataframe thead th {\n",
       "        text-align: right;\n",
       "    }\n",
       "</style>\n",
       "<table border=\"1\" class=\"dataframe\">\n",
       "  <thead>\n",
       "    <tr style=\"text-align: right;\">\n",
       "      <th></th>\n",
       "      <th>RecNo</th>\n",
       "      <th>ReportDate</th>\n",
       "      <th>DateOCC</th>\n",
       "      <th>TimeOCC</th>\n",
       "      <th>Area</th>\n",
       "      <th>AreaName</th>\n",
       "      <th>DistrictNo</th>\n",
       "      <th>CrimeCode</th>\n",
       "      <th>CrmDesc</th>\n",
       "      <th>Status</th>\n",
       "      <th>...</th>\n",
       "      <th>LAT</th>\n",
       "      <th>LON</th>\n",
       "      <th>TimeStamp</th>\n",
       "      <th>target</th>\n",
       "      <th>days</th>\n",
       "      <th>months</th>\n",
       "      <th>years</th>\n",
       "      <th>Categorize_time</th>\n",
       "      <th>policestation</th>\n",
       "      <th>hospital</th>\n",
       "    </tr>\n",
       "  </thead>\n",
       "  <tbody>\n",
       "    <tr>\n",
       "      <th>0</th>\n",
       "      <td>10304468</td>\n",
       "      <td>01/08/2020 12:00:00 AM</td>\n",
       "      <td>01/08/2020 12:00:00 AM</td>\n",
       "      <td>2230</td>\n",
       "      <td>3</td>\n",
       "      <td>Southwest</td>\n",
       "      <td>377</td>\n",
       "      <td>624</td>\n",
       "      <td>BATTERY - SIMPLE ASSAULT</td>\n",
       "      <td>AO</td>\n",
       "      <td>...</td>\n",
       "      <td>34.0141</td>\n",
       "      <td>-118.2978</td>\n",
       "      <td>2020010822</td>\n",
       "      <td>Assaults and threats</td>\n",
       "      <td>8</td>\n",
       "      <td>1</td>\n",
       "      <td>2020</td>\n",
       "      <td>Late Night</td>\n",
       "      <td>0.008144</td>\n",
       "      <td>0.024224</td>\n",
       "    </tr>\n",
       "    <tr>\n",
       "      <th>1</th>\n",
       "      <td>190101086</td>\n",
       "      <td>01/02/2020 12:00:00 AM</td>\n",
       "      <td>01/01/2020 12:00:00 AM</td>\n",
       "      <td>330</td>\n",
       "      <td>1</td>\n",
       "      <td>Central</td>\n",
       "      <td>163</td>\n",
       "      <td>624</td>\n",
       "      <td>BATTERY - SIMPLE ASSAULT</td>\n",
       "      <td>IC</td>\n",
       "      <td>...</td>\n",
       "      <td>34.0459</td>\n",
       "      <td>-118.2545</td>\n",
       "      <td>2020010103</td>\n",
       "      <td>Assaults and threats</td>\n",
       "      <td>1</td>\n",
       "      <td>1</td>\n",
       "      <td>2020</td>\n",
       "      <td>Late Night</td>\n",
       "      <td>0.007447</td>\n",
       "      <td>0.013592</td>\n",
       "    </tr>\n",
       "    <tr>\n",
       "      <th>2</th>\n",
       "      <td>191501505</td>\n",
       "      <td>01/01/2020 12:00:00 AM</td>\n",
       "      <td>01/01/2020 12:00:00 AM</td>\n",
       "      <td>1730</td>\n",
       "      <td>15</td>\n",
       "      <td>N Hollywood</td>\n",
       "      <td>1543</td>\n",
       "      <td>745</td>\n",
       "      <td>VANDALISM - MISDEAMEANOR ($399 OR UNDER)</td>\n",
       "      <td>IC</td>\n",
       "      <td>...</td>\n",
       "      <td>34.1685</td>\n",
       "      <td>-118.4019</td>\n",
       "      <td>2020010117</td>\n",
       "      <td>Property crimes</td>\n",
       "      <td>1</td>\n",
       "      <td>1</td>\n",
       "      <td>2020</td>\n",
       "      <td>Evening Rush Hour</td>\n",
       "      <td>0.016356</td>\n",
       "      <td>0.048281</td>\n",
       "    </tr>\n",
       "    <tr>\n",
       "      <th>3</th>\n",
       "      <td>191921269</td>\n",
       "      <td>01/01/2020 12:00:00 AM</td>\n",
       "      <td>01/01/2020 12:00:00 AM</td>\n",
       "      <td>415</td>\n",
       "      <td>19</td>\n",
       "      <td>Mission</td>\n",
       "      <td>1998</td>\n",
       "      <td>740</td>\n",
       "      <td>VANDALISM - FELONY ($400 &amp; OVER, ALL CHURCH VA...</td>\n",
       "      <td>IC</td>\n",
       "      <td>...</td>\n",
       "      <td>34.2198</td>\n",
       "      <td>-118.4468</td>\n",
       "      <td>2020010104</td>\n",
       "      <td>Property crimes</td>\n",
       "      <td>1</td>\n",
       "      <td>1</td>\n",
       "      <td>2020</td>\n",
       "      <td>Late Night</td>\n",
       "      <td>0.036091</td>\n",
       "      <td>0.009769</td>\n",
       "    </tr>\n",
       "    <tr>\n",
       "      <th>4</th>\n",
       "      <td>200100502</td>\n",
       "      <td>01/02/2020 12:00:00 AM</td>\n",
       "      <td>01/02/2020 12:00:00 AM</td>\n",
       "      <td>1315</td>\n",
       "      <td>1</td>\n",
       "      <td>Central</td>\n",
       "      <td>161</td>\n",
       "      <td>442</td>\n",
       "      <td>SHOPLIFTING - PETTY THEFT ($950 &amp; UNDER)</td>\n",
       "      <td>IC</td>\n",
       "      <td>...</td>\n",
       "      <td>34.0483</td>\n",
       "      <td>-118.2631</td>\n",
       "      <td>2020010213</td>\n",
       "      <td>others</td>\n",
       "      <td>2</td>\n",
       "      <td>1</td>\n",
       "      <td>2020</td>\n",
       "      <td>Afternoon</td>\n",
       "      <td>0.009244</td>\n",
       "      <td>0.006466</td>\n",
       "    </tr>\n",
       "    <tr>\n",
       "      <th>...</th>\n",
       "      <td>...</td>\n",
       "      <td>...</td>\n",
       "      <td>...</td>\n",
       "      <td>...</td>\n",
       "      <td>...</td>\n",
       "      <td>...</td>\n",
       "      <td>...</td>\n",
       "      <td>...</td>\n",
       "      <td>...</td>\n",
       "      <td>...</td>\n",
       "      <td>...</td>\n",
       "      <td>...</td>\n",
       "      <td>...</td>\n",
       "      <td>...</td>\n",
       "      <td>...</td>\n",
       "      <td>...</td>\n",
       "      <td>...</td>\n",
       "      <td>...</td>\n",
       "      <td>...</td>\n",
       "      <td>...</td>\n",
       "      <td>...</td>\n",
       "    </tr>\n",
       "    <tr>\n",
       "      <th>566144</th>\n",
       "      <td>230806871</td>\n",
       "      <td>03/03/2023 12:00:00 AM</td>\n",
       "      <td>03/02/2023 12:00:00 AM</td>\n",
       "      <td>620</td>\n",
       "      <td>8</td>\n",
       "      <td>West LA</td>\n",
       "      <td>889</td>\n",
       "      <td>354</td>\n",
       "      <td>THEFT OF IDENTITY</td>\n",
       "      <td>IC</td>\n",
       "      <td>...</td>\n",
       "      <td>34.0412</td>\n",
       "      <td>-118.3814</td>\n",
       "      <td>2023030206</td>\n",
       "      <td>others</td>\n",
       "      <td>2</td>\n",
       "      <td>3</td>\n",
       "      <td>2023</td>\n",
       "      <td>Early Morning</td>\n",
       "      <td>0.038967</td>\n",
       "      <td>0.007254</td>\n",
       "    </tr>\n",
       "    <tr>\n",
       "      <th>566145</th>\n",
       "      <td>231104474</td>\n",
       "      <td>01/12/2023 12:00:00 AM</td>\n",
       "      <td>01/12/2023 12:00:00 AM</td>\n",
       "      <td>1240</td>\n",
       "      <td>11</td>\n",
       "      <td>Northeast</td>\n",
       "      <td>1107</td>\n",
       "      <td>440</td>\n",
       "      <td>THEFT PLAIN - PETTY ($950 &amp; UNDER)</td>\n",
       "      <td>IC</td>\n",
       "      <td>...</td>\n",
       "      <td>34.1214</td>\n",
       "      <td>-118.1915</td>\n",
       "      <td>2023011212</td>\n",
       "      <td>Property crimes</td>\n",
       "      <td>12</td>\n",
       "      <td>1</td>\n",
       "      <td>2023</td>\n",
       "      <td>Afternoon</td>\n",
       "      <td>0.057956</td>\n",
       "      <td>0.040634</td>\n",
       "    </tr>\n",
       "    <tr>\n",
       "      <th>566146</th>\n",
       "      <td>230804266</td>\n",
       "      <td>01/08/2023 12:00:00 AM</td>\n",
       "      <td>01/08/2023 12:00:00 AM</td>\n",
       "      <td>1030</td>\n",
       "      <td>8</td>\n",
       "      <td>West LA</td>\n",
       "      <td>839</td>\n",
       "      <td>341</td>\n",
       "      <td>THEFT-GRAND ($950.01 &amp; OVER)EXCPT,GUNS,FOWL,LI...</td>\n",
       "      <td>IC</td>\n",
       "      <td>...</td>\n",
       "      <td>34.0611</td>\n",
       "      <td>-118.4184</td>\n",
       "      <td>2023010810</td>\n",
       "      <td>Property crimes</td>\n",
       "      <td>8</td>\n",
       "      <td>1</td>\n",
       "      <td>2023</td>\n",
       "      <td>Late Morning</td>\n",
       "      <td>0.036722</td>\n",
       "      <td>0.028420</td>\n",
       "    </tr>\n",
       "    <tr>\n",
       "      <th>566147</th>\n",
       "      <td>231604807</td>\n",
       "      <td>01/27/2023 12:00:00 AM</td>\n",
       "      <td>01/26/2023 12:00:00 AM</td>\n",
       "      <td>1800</td>\n",
       "      <td>16</td>\n",
       "      <td>Foothill</td>\n",
       "      <td>1663</td>\n",
       "      <td>740</td>\n",
       "      <td>VANDALISM - FELONY ($400 &amp; OVER, ALL CHURCH VA...</td>\n",
       "      <td>IC</td>\n",
       "      <td>...</td>\n",
       "      <td>34.2466</td>\n",
       "      <td>-118.4054</td>\n",
       "      <td>2023012618</td>\n",
       "      <td>Property crimes</td>\n",
       "      <td>26</td>\n",
       "      <td>1</td>\n",
       "      <td>2023</td>\n",
       "      <td>Evening</td>\n",
       "      <td>0.008204</td>\n",
       "      <td>0.011231</td>\n",
       "    </tr>\n",
       "    <tr>\n",
       "      <th>566148</th>\n",
       "      <td>230906458</td>\n",
       "      <td>03/05/2023 12:00:00 AM</td>\n",
       "      <td>03/05/2023 12:00:00 AM</td>\n",
       "      <td>900</td>\n",
       "      <td>9</td>\n",
       "      <td>Van Nuys</td>\n",
       "      <td>914</td>\n",
       "      <td>745</td>\n",
       "      <td>VANDALISM - MISDEAMEANOR ($399 OR UNDER)</td>\n",
       "      <td>IC</td>\n",
       "      <td>...</td>\n",
       "      <td>34.1951</td>\n",
       "      <td>-118.4487</td>\n",
       "      <td>2023030509</td>\n",
       "      <td>Property crimes</td>\n",
       "      <td>5</td>\n",
       "      <td>3</td>\n",
       "      <td>2023</td>\n",
       "      <td>Late Morning</td>\n",
       "      <td>0.011876</td>\n",
       "      <td>0.014048</td>\n",
       "    </tr>\n",
       "  </tbody>\n",
       "</table>\n",
       "<p>566149 rows × 22 columns</p>\n",
       "</div>"
      ],
      "text/plain": [
       "            RecNo              ReportDate                 DateOCC  TimeOCC  \\\n",
       "0        10304468  01/08/2020 12:00:00 AM  01/08/2020 12:00:00 AM     2230   \n",
       "1       190101086  01/02/2020 12:00:00 AM  01/01/2020 12:00:00 AM      330   \n",
       "2       191501505  01/01/2020 12:00:00 AM  01/01/2020 12:00:00 AM     1730   \n",
       "3       191921269  01/01/2020 12:00:00 AM  01/01/2020 12:00:00 AM      415   \n",
       "4       200100502  01/02/2020 12:00:00 AM  01/02/2020 12:00:00 AM     1315   \n",
       "...           ...                     ...                     ...      ...   \n",
       "566144  230806871  03/03/2023 12:00:00 AM  03/02/2023 12:00:00 AM      620   \n",
       "566145  231104474  01/12/2023 12:00:00 AM  01/12/2023 12:00:00 AM     1240   \n",
       "566146  230804266  01/08/2023 12:00:00 AM  01/08/2023 12:00:00 AM     1030   \n",
       "566147  231604807  01/27/2023 12:00:00 AM  01/26/2023 12:00:00 AM     1800   \n",
       "566148  230906458  03/05/2023 12:00:00 AM  03/05/2023 12:00:00 AM      900   \n",
       "\n",
       "        Area     AreaName  DistrictNo  CrimeCode  \\\n",
       "0          3    Southwest         377        624   \n",
       "1          1      Central         163        624   \n",
       "2         15  N Hollywood        1543        745   \n",
       "3         19      Mission        1998        740   \n",
       "4          1      Central         161        442   \n",
       "...      ...          ...         ...        ...   \n",
       "566144     8      West LA         889        354   \n",
       "566145    11    Northeast        1107        440   \n",
       "566146     8      West LA         839        341   \n",
       "566147    16     Foothill        1663        740   \n",
       "566148     9     Van Nuys         914        745   \n",
       "\n",
       "                                                  CrmDesc Status  ...  \\\n",
       "0                                BATTERY - SIMPLE ASSAULT     AO  ...   \n",
       "1                                BATTERY - SIMPLE ASSAULT     IC  ...   \n",
       "2                VANDALISM - MISDEAMEANOR ($399 OR UNDER)     IC  ...   \n",
       "3       VANDALISM - FELONY ($400 & OVER, ALL CHURCH VA...     IC  ...   \n",
       "4                SHOPLIFTING - PETTY THEFT ($950 & UNDER)     IC  ...   \n",
       "...                                                   ...    ...  ...   \n",
       "566144                                  THEFT OF IDENTITY     IC  ...   \n",
       "566145                 THEFT PLAIN - PETTY ($950 & UNDER)     IC  ...   \n",
       "566146  THEFT-GRAND ($950.01 & OVER)EXCPT,GUNS,FOWL,LI...     IC  ...   \n",
       "566147  VANDALISM - FELONY ($400 & OVER, ALL CHURCH VA...     IC  ...   \n",
       "566148           VANDALISM - MISDEAMEANOR ($399 OR UNDER)     IC  ...   \n",
       "\n",
       "            LAT       LON   TimeStamp                target  days months  \\\n",
       "0       34.0141 -118.2978  2020010822  Assaults and threats     8      1   \n",
       "1       34.0459 -118.2545  2020010103  Assaults and threats     1      1   \n",
       "2       34.1685 -118.4019  2020010117       Property crimes     1      1   \n",
       "3       34.2198 -118.4468  2020010104       Property crimes     1      1   \n",
       "4       34.0483 -118.2631  2020010213                others     2      1   \n",
       "...         ...       ...         ...                   ...   ...    ...   \n",
       "566144  34.0412 -118.3814  2023030206                others     2      3   \n",
       "566145  34.1214 -118.1915  2023011212       Property crimes    12      1   \n",
       "566146  34.0611 -118.4184  2023010810       Property crimes     8      1   \n",
       "566147  34.2466 -118.4054  2023012618       Property crimes    26      1   \n",
       "566148  34.1951 -118.4487  2023030509       Property crimes     5      3   \n",
       "\n",
       "        years    Categorize_time  policestation  hospital  \n",
       "0        2020         Late Night       0.008144  0.024224  \n",
       "1        2020         Late Night       0.007447  0.013592  \n",
       "2        2020  Evening Rush Hour       0.016356  0.048281  \n",
       "3        2020         Late Night       0.036091  0.009769  \n",
       "4        2020          Afternoon       0.009244  0.006466  \n",
       "...       ...                ...            ...       ...  \n",
       "566144   2023      Early Morning       0.038967  0.007254  \n",
       "566145   2023          Afternoon       0.057956  0.040634  \n",
       "566146   2023       Late Morning       0.036722  0.028420  \n",
       "566147   2023            Evening       0.008204  0.011231  \n",
       "566148   2023       Late Morning       0.011876  0.014048  \n",
       "\n",
       "[566149 rows x 22 columns]"
      ]
     },
     "execution_count": 94,
     "metadata": {},
     "output_type": "execute_result"
    }
   ],
   "source": [
    "LA_crime"
   ]
  },
  {
   "cell_type": "code",
   "execution_count": null,
   "id": "a3537549",
   "metadata": {},
   "outputs": [],
   "source": []
  },
  {
   "cell_type": "code",
   "execution_count": 9,
   "id": "91dd639f",
   "metadata": {},
   "outputs": [],
   "source": [
    "from datetime import datetime\n",
    "\n",
    "def extract_date_components(dates):\n",
    "    # Define empty lists for the days, months, and years\n",
    "    days = []\n",
    "    months = []\n",
    "    years = []\n",
    "\n",
    "    # Loop over the date strings and extract the day, month, and year\n",
    "    for date_str in dates:\n",
    "        date_obj = datetime.strptime(date_str, '%m/%d/%Y %I:%M:%S %p')\n",
    "        days.append(date_obj.day)\n",
    "        months.append(date_obj.month)\n",
    "        years.append(date_obj.year)\n",
    "\n",
    "    # Return a tuple of the day, month, and year lists\n",
    "    return days, months, years"
   ]
  },
  {
   "cell_type": "code",
   "execution_count": 10,
   "id": "a2659b0c",
   "metadata": {},
   "outputs": [],
   "source": [
    "days, months, years = extract_date_components(LA_crime.DateOCC)"
   ]
  },
  {
   "cell_type": "code",
   "execution_count": 11,
   "id": "75ddf7f2",
   "metadata": {},
   "outputs": [],
   "source": [
    "LA_crime[\"days\"] = days\n",
    "LA_crime[\"months\"] = months\n",
    "LA_crime[\"years\"] = years"
   ]
  },
  {
   "cell_type": "code",
   "execution_count": 12,
   "id": "fc8994d0",
   "metadata": {},
   "outputs": [],
   "source": [
    "def categorize_time(times):\n",
    "    categories = []\n",
    "\n",
    "    for time in times:\n",
    "        hour = int(time / 100)\n",
    "        minute = time % 100\n",
    "        if hour >= 0 and hour < 6:\n",
    "            categories.append(\"Late Night\")\n",
    "        elif hour == 6 and minute < 30:\n",
    "            categories.append(\"Early Morning\")\n",
    "        elif hour >= 6 and hour < 9:\n",
    "            categories.append(\"Morning Rush Hour\")\n",
    "        elif hour >= 9 and hour < 12:\n",
    "            categories.append(\"Late Morning\")\n",
    "        elif hour >= 12 and hour < 15:\n",
    "            categories.append(\"Afternoon\")\n",
    "        elif hour >= 15 and hour < 18:\n",
    "            categories.append(\"Evening Rush Hour\")\n",
    "        elif hour >= 18 and hour < 21:\n",
    "            categories.append(\"Evening\")\n",
    "        else:\n",
    "            categories.append(\"Late Night\")\n",
    "    \n",
    "    return categories\n",
    "\n",
    "\n",
    "### time equally distributed \n",
    "### time to change\n",
    "time_period = categorize_time(LA_crime.TimeOCC)"
   ]
  },
  {
   "cell_type": "code",
   "execution_count": 13,
   "id": "4a1f42cc",
   "metadata": {},
   "outputs": [],
   "source": [
    "LA_crime[\"Categorize_time\"] = time_period"
   ]
  },
  {
   "cell_type": "code",
   "execution_count": null,
   "id": "0fa54f55",
   "metadata": {},
   "outputs": [],
   "source": []
  },
  {
   "cell_type": "code",
   "execution_count": 14,
   "id": "5f76ac64",
   "metadata": {},
   "outputs": [],
   "source": [
    "# # create dummy variables\n",
    "# dummies = pd.get_dummies(LA_crime['AreaName'])\n",
    "\n",
    "# # concatenate the original DataFrame with the dummy variables\n",
    "# df = pd.concat([LA_crime, dummies], axis=1)\n",
    "\n",
    "# # remove the original 'areaname' column\n",
    "# df = df.drop('AreaName', axis=1)"
   ]
  },
  {
   "cell_type": "code",
   "execution_count": null,
   "id": "8fd80be1",
   "metadata": {},
   "outputs": [],
   "source": []
  },
  {
   "cell_type": "code",
   "execution_count": 15,
   "id": "372ba164",
   "metadata": {},
   "outputs": [],
   "source": [
    "from scipy.spatial.distance import cdist\n",
    "from math import radians, cos, sin, asin, sqrt"
   ]
  },
  {
   "cell_type": "code",
   "execution_count": 16,
   "id": "c604df3b",
   "metadata": {},
   "outputs": [],
   "source": [
    "# calculate distance matrix using cdist\n",
    "distances = cdist(LA_crime[['LAT', 'LON']], LAPD[['Y', 'X']])\n",
    "\n",
    "# get minimum distance for each row in A\n",
    "min_distances = distances.min(axis=1)\n"
   ]
  },
  {
   "cell_type": "code",
   "execution_count": 17,
   "id": "cd428c02",
   "metadata": {},
   "outputs": [],
   "source": [
    "LA_crime[\"policestation\"] = min_distances"
   ]
  },
  {
   "cell_type": "code",
   "execution_count": 18,
   "id": "ce0e5042",
   "metadata": {},
   "outputs": [],
   "source": [
    "# calculate distance matrix using cdist\n",
    "distances = cdist(LA_crime[['LAT', 'LON']], LAhospital[['Y', 'X']])\n",
    "\n",
    "# get minimum distance for each row in A\n",
    "hospital_min_distances = distances.min(axis=1)\n"
   ]
  },
  {
   "cell_type": "code",
   "execution_count": 19,
   "id": "ced98077",
   "metadata": {},
   "outputs": [],
   "source": [
    "LA_crime[\"hospital\"] = hospital_min_distances"
   ]
  },
  {
   "cell_type": "code",
   "execution_count": null,
   "id": "13c93748",
   "metadata": {},
   "outputs": [],
   "source": []
  },
  {
   "cell_type": "code",
   "execution_count": null,
   "id": "62b11058",
   "metadata": {},
   "outputs": [],
   "source": []
  },
  {
   "cell_type": "code",
   "execution_count": 20,
   "id": "763d83e9",
   "metadata": {},
   "outputs": [],
   "source": [
    "X = LA_crime[[\"AreaName\", \"LAT\", \"LON\",\"years\",\"months\",\"Categorize_time\", \"policestation\", \"hospital\"]]\n",
    "y = LA_crime[[\"target\"]]"
   ]
  },
  {
   "cell_type": "code",
   "execution_count": 21,
   "id": "9db02dd5",
   "metadata": {},
   "outputs": [
    {
     "name": "stderr",
     "output_type": "stream",
     "text": [
      "C:\\Users\\wn199\\AppData\\Local\\Temp\\ipykernel_26232\\239742279.py:1: SettingWithCopyWarning: \n",
      "A value is trying to be set on a copy of a slice from a DataFrame.\n",
      "Try using .loc[row_indexer,col_indexer] = value instead\n",
      "\n",
      "See the caveats in the documentation: https://pandas.pydata.org/pandas-docs/stable/user_guide/indexing.html#returning-a-view-versus-a-copy\n",
      "  X['AreaName'] = X['AreaName'].astype('category').cat.codes\n",
      "C:\\Users\\wn199\\AppData\\Local\\Temp\\ipykernel_26232\\239742279.py:2: SettingWithCopyWarning: \n",
      "A value is trying to be set on a copy of a slice from a DataFrame.\n",
      "Try using .loc[row_indexer,col_indexer] = value instead\n",
      "\n",
      "See the caveats in the documentation: https://pandas.pydata.org/pandas-docs/stable/user_guide/indexing.html#returning-a-view-versus-a-copy\n",
      "  X['Categorize_time'] = X['Categorize_time'].astype('category').cat.codes\n"
     ]
    }
   ],
   "source": [
    "X['AreaName'] = X['AreaName'].astype('category').cat.codes\n",
    "X['Categorize_time'] = X['Categorize_time'].astype('category').cat.codes"
   ]
  },
  {
   "cell_type": "code",
   "execution_count": null,
   "id": "4f2488a5",
   "metadata": {},
   "outputs": [],
   "source": []
  },
  {
   "cell_type": "markdown",
   "id": "2577a981",
   "metadata": {},
   "source": [
    "# split dataset"
   ]
  },
  {
   "cell_type": "code",
   "execution_count": 22,
   "id": "dbc65af1",
   "metadata": {},
   "outputs": [],
   "source": [
    "from sklearn.model_selection import train_test_split\n",
    "\n",
    "# X is your data features, y is your target variable\n",
    "X_train_val, X_test, y_train_val, y_test = train_test_split(X, y, test_size=0.2, random_state=42)\n",
    "X_train, X_val, y_train, y_val = train_test_split(X_train_val, y_train_val, test_size=0.1, random_state=42)\n"
   ]
  },
  {
   "cell_type": "markdown",
   "id": "dff39e65",
   "metadata": {},
   "source": [
    "# decision tree"
   ]
  },
  {
   "cell_type": "code",
   "execution_count": 23,
   "id": "0202af14",
   "metadata": {},
   "outputs": [],
   "source": [
    "from sklearn.model_selection import cross_val_score\n",
    "from sklearn.tree import DecisionTreeClassifier"
   ]
  },
  {
   "cell_type": "code",
   "execution_count": 24,
   "id": "9675fab3",
   "metadata": {},
   "outputs": [
    {
     "data": {
      "text/plain": [
       "array([0.41598516, 0.40618211, 0.37931644, 0.42054226, 0.42571757,\n",
       "       0.42319173, 0.42630045, 0.42486973, 0.42425152, 0.41650475])"
      ]
     },
     "execution_count": 24,
     "metadata": {},
     "output_type": "execute_result"
    }
   ],
   "source": [
    "clf = DecisionTreeClassifier(random_state=0)\n",
    "cross_val_score(clf, X, y, cv=10)"
   ]
  },
  {
   "cell_type": "markdown",
   "id": "39f16d41",
   "metadata": {},
   "source": [
    "# RandomForest"
   ]
  },
  {
   "cell_type": "code",
   "execution_count": 25,
   "id": "923a10ae",
   "metadata": {},
   "outputs": [
    {
     "name": "stderr",
     "output_type": "stream",
     "text": [
      "C:\\Users\\wn199\\AppData\\Local\\Temp\\ipykernel_26232\\4039196275.py:3: DataConversionWarning: A column-vector y was passed when a 1d array was expected. Please change the shape of y to (n_samples,), for example using ravel().\n",
      "  rfc.fit(X_train, y_train)\n"
     ]
    }
   ],
   "source": [
    "from sklearn.ensemble import RandomForestClassifier\n",
    "rfc = RandomForestClassifier(n_estimators=100, random_state=42, max_depth = 20, min_samples_split = 1000, min_samples_leaf = 1000 )\n",
    "rfc.fit(X_train, y_train)\n",
    "\n",
    "# Predict on the test data\n",
    "y_pred = rfc.predict(X_test)\n",
    "\n",
    "# Evaluate the model\n",
    "accuracy = rfc.score(X_test, y_test)"
   ]
  },
  {
   "cell_type": "code",
   "execution_count": 26,
   "id": "2c15da99",
   "metadata": {},
   "outputs": [
    {
     "data": {
      "text/plain": [
       "0.5681179899319968"
      ]
     },
     "execution_count": 26,
     "metadata": {},
     "output_type": "execute_result"
    }
   ],
   "source": [
    "accuracy"
   ]
  },
  {
   "cell_type": "code",
   "execution_count": 27,
   "id": "cdaade62",
   "metadata": {},
   "outputs": [],
   "source": [
    "from sklearn.naive_bayes import GaussianNB\n",
    "from sklearn.metrics import accuracy_score"
   ]
  },
  {
   "cell_type": "code",
   "execution_count": 28,
   "id": "146e6aef",
   "metadata": {},
   "outputs": [
    {
     "name": "stderr",
     "output_type": "stream",
     "text": [
      "C:\\Users\\wn199\\anaconda3\\lib\\site-packages\\sklearn\\utils\\validation.py:1111: DataConversionWarning: A column-vector y was passed when a 1d array was expected. Please change the shape of y to (n_samples, ), for example using ravel().\n",
      "  y = column_or_1d(y, warn=True)\n"
     ]
    },
    {
     "name": "stdout",
     "output_type": "stream",
     "text": [
      "Validation accuracy: 0.5744281550825753\n",
      "Testing accuracy: 0.5680296741146339\n"
     ]
    }
   ],
   "source": [
    "# Create Naive Bayes classifier object\n",
    "nb = GaussianNB()\n",
    "\n",
    "# Train the model on the training set\n",
    "nb.fit(X_train, y_train)\n",
    "\n",
    "# Predict classes for validation set\n",
    "y_pred_val = nb.predict(X_val)\n",
    "\n",
    "# Calculate validation accuracy\n",
    "val_accuracy = accuracy_score(y_val, y_pred_val)\n",
    "print(\"Validation accuracy:\", val_accuracy)\n",
    "\n",
    "# Predict classes for testing set\n",
    "y_pred_test = nb.predict(X_test)\n",
    "\n",
    "# Calculate testing accuracy\n",
    "test_accuracy = accuracy_score(y_test, y_pred_test)\n",
    "print(\"Testing accuracy:\", test_accuracy)"
   ]
  },
  {
   "cell_type": "code",
   "execution_count": 31,
   "id": "e4fd6685",
   "metadata": {},
   "outputs": [
    {
     "data": {
      "text/plain": [
       "target                    \n",
       "Property crimes               64328\n",
       "Assaults and threats          18827\n",
       "others                        13096\n",
       "Domestic violence             10341\n",
       "Robbery and related crimes     6638\n",
       "dtype: int64"
      ]
     },
     "execution_count": 31,
     "metadata": {},
     "output_type": "execute_result"
    }
   ],
   "source": [
    "y_test.value_counts()"
   ]
  },
  {
   "cell_type": "code",
   "execution_count": 30,
   "id": "3acaf618",
   "metadata": {},
   "outputs": [
    {
     "data": {
      "text/plain": [
       "0.7188125194504957"
      ]
     },
     "execution_count": 30,
     "metadata": {},
     "output_type": "execute_result"
    }
   ],
   "source": [
    "64673 / (64673 + 18655 + 6644)"
   ]
  },
  {
   "cell_type": "markdown",
   "id": "1230e469",
   "metadata": {},
   "source": [
    "# SMOTE\n",
    "# SMOTE\n",
    "# SMOTE\n",
    "# SMOTE"
   ]
  },
  {
   "cell_type": "code",
   "execution_count": 32,
   "id": "33c511f9",
   "metadata": {},
   "outputs": [],
   "source": [
    "from imblearn.over_sampling import SMOTE\n",
    "from sklearn.datasets import make_classification\n",
    "from collections import Counter\n",
    "\n",
    "# Apply SMOTE to oversample minority class\n",
    "sm = SMOTE(random_state=42)\n",
    "X_res, y_res = sm.fit_resample(X, y)"
   ]
  },
  {
   "cell_type": "code",
   "execution_count": 35,
   "id": "5382ff18",
   "metadata": {},
   "outputs": [
    {
     "name": "stdout",
     "output_type": "stream",
     "text": [
      "Resampled dataset shape Counter({'target': 1})\n",
      "target                    \n",
      "Assaults and threats          322876\n",
      "Domestic violence             322876\n",
      "Property crimes               322876\n",
      "Robbery and related crimes    322876\n",
      "others                        322876\n",
      "dtype: int64\n"
     ]
    }
   ],
   "source": [
    "# Print class distribution after oversampling\n",
    "print('Resampled dataset shape %s' % Counter(y_res))\n",
    "print(y_res.value_counts())"
   ]
  },
  {
   "cell_type": "code",
   "execution_count": 36,
   "id": "ffbedb06",
   "metadata": {},
   "outputs": [],
   "source": [
    "# X is your data features, y is your target variable\n",
    "X_train_val, X_test, y_train_val, y_test = train_test_split(X_res, y_res, test_size=0.2, random_state=42)\n",
    "X_train, X_val, y_train, y_val = train_test_split(X_train_val, y_train_val, test_size=0.1, random_state=42)"
   ]
  },
  {
   "cell_type": "code",
   "execution_count": 37,
   "id": "5760835b",
   "metadata": {},
   "outputs": [
    {
     "data": {
      "text/plain": [
       "array([0.39735378, 0.45705472, 0.48642823, 0.54749811, 0.55099791,\n",
       "       0.55170406, 0.54547876, 0.54192941, 0.54400451, 0.49614713])"
      ]
     },
     "execution_count": 37,
     "metadata": {},
     "output_type": "execute_result"
    }
   ],
   "source": [
    "clf = DecisionTreeClassifier(random_state=0)\n",
    "cross_val_score(clf, X_res, y_res, cv=10)"
   ]
  },
  {
   "cell_type": "code",
   "execution_count": 38,
   "id": "fd94fee9",
   "metadata": {},
   "outputs": [
    {
     "name": "stderr",
     "output_type": "stream",
     "text": [
      "C:\\Users\\wn199\\AppData\\Local\\Temp\\ipykernel_26232\\2697451511.py:3: DataConversionWarning: A column-vector y was passed when a 1d array was expected. Please change the shape of y to (n_samples,), for example using ravel().\n",
      "  rfc.fit(X_train, y_train)\n"
     ]
    },
    {
     "name": "stdout",
     "output_type": "stream",
     "text": [
      "0.6295512828454267\n"
     ]
    }
   ],
   "source": [
    "from sklearn.ensemble import RandomForestClassifier\n",
    "rfc = RandomForestClassifier(n_estimators=100, random_state=42)\n",
    "rfc.fit(X_train, y_train)\n",
    "\n",
    "# Predict on the test data\n",
    "y_pred = rfc.predict(X_test)\n",
    "\n",
    "# Evaluate the model\n",
    "accuracy = rfc.score(X_test, y_test)\n",
    "print(accuracy)"
   ]
  },
  {
   "cell_type": "code",
   "execution_count": 39,
   "id": "feefcbc4",
   "metadata": {},
   "outputs": [
    {
     "name": "stderr",
     "output_type": "stream",
     "text": [
      "C:\\Users\\wn199\\anaconda3\\lib\\site-packages\\sklearn\\utils\\validation.py:1111: DataConversionWarning: A column-vector y was passed when a 1d array was expected. Please change the shape of y to (n_samples, ), for example using ravel().\n",
      "  y = column_or_1d(y, warn=True)\n"
     ]
    },
    {
     "name": "stdout",
     "output_type": "stream",
     "text": [
      "Validation accuracy: 0.26320353694512627\n",
      "Testing accuracy: 0.2632217941252989\n"
     ]
    }
   ],
   "source": [
    "# Create Naive Bayes classifier object\n",
    "nb = GaussianNB()\n",
    "\n",
    "# Train the model on the training set\n",
    "nb.fit(X_train, y_train)\n",
    "\n",
    "# Predict classes for validation set\n",
    "y_pred_val = nb.predict(X_val)\n",
    "\n",
    "# Calculate validation accuracy\n",
    "val_accuracy = accuracy_score(y_val, y_pred_val)\n",
    "print(\"Validation accuracy:\", val_accuracy)\n",
    "\n",
    "# Predict classes for testing set\n",
    "y_pred_test = nb.predict(X_test)\n",
    "\n",
    "# Calculate testing accuracy\n",
    "test_accuracy = accuracy_score(y_test, y_pred_test)\n",
    "print(\"Testing accuracy:\", test_accuracy)"
   ]
  },
  {
   "cell_type": "markdown",
   "id": "e47782b0",
   "metadata": {},
   "source": [
    "# Random Forest"
   ]
  },
  {
   "cell_type": "code",
   "execution_count": 83,
   "id": "7621ab7d",
   "metadata": {},
   "outputs": [],
   "source": [
    "# X is your data features, y is your target variable\n",
    "X_train, X_test, y_train, y_test = train_test_split(X, y, test_size=0.2, random_state=42)"
   ]
  },
  {
   "cell_type": "code",
   "execution_count": 84,
   "id": "96d60bb2",
   "metadata": {},
   "outputs": [],
   "source": [
    "def random_forest_classifier(X_train, X_test, y_train, y_test):\n",
    "    rfc = RandomForestClassifier(random_state=42, class_weight = 'balanced')\n",
    "    # Define a grid of hyperparameters to search through\n",
    "    param_grid = {\n",
    "        'max_depth': [5, 10, 15],\n",
    "        'min_samples_split': [2, 5, 10],\n",
    "        'min_samples_leaf': [1, 2, 4]\n",
    "    }\n",
    "    # Use GridSearchCV to search through the hyperparameters\n",
    "    rfc_cv = GridSearchCV(estimator=rfc, param_grid=param_grid, cv=5)\n",
    "    rfc_cv.fit(X_train, y_train)\n",
    "\n",
    "    # Get the best parameters and score\n",
    "    best_params = rfc_cv.best_params_\n",
    "    best_score = rfc_cv.best_score_\n",
    "\n",
    "    # Predict on the test data using the best parameters\n",
    "    y_pred = rfc_cv.predict(X_test)\n",
    "\n",
    "    # Evaluate the model with the best parameters\n",
    "    accuracy = rfc_cv.score(X_test, y_test)\n",
    "\n",
    "    print(\"Best parameters: \", best_params)\n",
    "    print(\"Best score: \", best_score)\n",
    "    print(\"Accuracy: \", accuracy)\n",
    "\n",
    "    return rfc_cv"
   ]
  },
  {
   "cell_type": "code",
   "execution_count": 85,
   "id": "7b19ae16",
   "metadata": {},
   "outputs": [
    {
     "name": "stdout",
     "output_type": "stream",
     "text": [
      "Best parameters:  {'max_depth': 15, 'min_samples_leaf': 1, 'min_samples_split': 2}\n",
      "Best score:  0.3813993172007505\n",
      "Accuracy:  0.3751126026671377\n"
     ]
    }
   ],
   "source": [
    "rfc_model = random_forest_classifier(X_train, X_test, y_train, y_test)"
   ]
  },
  {
   "cell_type": "code",
   "execution_count": 88,
   "id": "67bdd2c8",
   "metadata": {},
   "outputs": [],
   "source": [
    "def random_forest_classifier2(X_train, X_test, y_train, y_test):\n",
    "    rfc = RandomForestClassifier(random_state=42)\n",
    "    # Define a grid of hyperparameters to search through\n",
    "    param_grid = {\n",
    "        'max_depth': [15],\n",
    "        'min_samples_split': [2],\n",
    "        'min_samples_leaf': [1]\n",
    "    }\n",
    "    # Use GridSearchCV to search through the hyperparameters\n",
    "    rfc_cv = GridSearchCV(estimator=rfc, param_grid=param_grid, cv=5)\n",
    "    rfc_cv.fit(X_train, y_train)\n",
    "\n",
    "    # Get the best parameters and score\n",
    "    best_params = rfc_cv.best_params_\n",
    "    best_score = rfc_cv.best_score_\n",
    "\n",
    "    # Predict on the test data using the best parameters\n",
    "    y_pred = rfc_cv.predict(X_test)\n",
    "\n",
    "    # Evaluate the model with the best parameters\n",
    "    accuracy = rfc_cv.score(X_test, y_test)\n",
    "\n",
    "    print(\"Best parameters: \", best_params)\n",
    "    print(\"Best score: \", best_score)\n",
    "    print(\"Accuracy: \", accuracy)\n",
    "\n",
    "    return rfc_cv"
   ]
  },
  {
   "cell_type": "code",
   "execution_count": 89,
   "id": "edf42b27",
   "metadata": {},
   "outputs": [
    {
     "name": "stdout",
     "output_type": "stream",
     "text": [
      "Best parameters:  {'max_depth': 15, 'min_samples_leaf': 1, 'min_samples_split': 2}\n",
      "Best score:  0.5791918640136203\n",
      "Accuracy:  0.5766051399805705\n"
     ]
    }
   ],
   "source": [
    "rfc_model = random_forest_classifier2(X_train, X_test, y_train, y_test)"
   ]
  },
  {
   "cell_type": "code",
   "execution_count": null,
   "id": "63de0352",
   "metadata": {},
   "outputs": [],
   "source": []
  },
  {
   "cell_type": "code",
   "execution_count": null,
   "id": "e0c5854e",
   "metadata": {},
   "outputs": [],
   "source": []
  },
  {
   "cell_type": "code",
   "execution_count": null,
   "id": "c12be4a1",
   "metadata": {},
   "outputs": [],
   "source": []
  }
 ],
 "metadata": {
  "kernelspec": {
   "display_name": "Python 3 (ipykernel)",
   "language": "python",
   "name": "python3"
  },
  "language_info": {
   "codemirror_mode": {
    "name": "ipython",
    "version": 3
   },
   "file_extension": ".py",
   "mimetype": "text/x-python",
   "name": "python",
   "nbconvert_exporter": "python",
   "pygments_lexer": "ipython3",
   "version": "3.9.12"
  }
 },
 "nbformat": 4,
 "nbformat_minor": 5
}
